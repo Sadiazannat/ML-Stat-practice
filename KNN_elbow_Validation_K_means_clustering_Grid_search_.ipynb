{
  "nbformat": 4,
  "nbformat_minor": 0,
  "metadata": {
    "kernelspec": {
      "display_name": "Python 3",
      "language": "python",
      "name": "python3"
    },
    "language_info": {
      "codemirror_mode": {
        "name": "ipython",
        "version": 3
      },
      "file_extension": ".py",
      "mimetype": "text/x-python",
      "name": "python",
      "nbconvert_exporter": "python",
      "pygments_lexer": "ipython3",
      "version": "3.8.5"
    },
    "colab": {
      "provenance": []
    }
  },
  "cells": [
    {
      "cell_type": "code",
      "metadata": {
        "id": "c-atK_BhLSs2"
      },
      "source": [
        "import numpy as np\n",
        "import pandas as pd\n",
        "import sklearn\n",
        "import matplotlib.pyplot as plt\n",
        "from sklearn.cluster import KMeans"
      ],
      "execution_count": null,
      "outputs": []
    },
    {
      "cell_type": "code",
      "metadata": {
        "id": "koR3_rNALSs5"
      },
      "source": [
        "from sklearn.datasets import load_wine\n",
        "wine = load_wine()"
      ],
      "execution_count": null,
      "outputs": []
    },
    {
      "cell_type": "code",
      "metadata": {
        "scrolled": true,
        "id": "8o1hvFnzLSs6",
        "colab": {
          "base_uri": "https://localhost:8080/"
        },
        "outputId": "8fcb8c0a-cb2b-42a0-80ba-b22c887109f2"
      },
      "source": [
        "print(wine['DESCR'])"
      ],
      "execution_count": null,
      "outputs": [
        {
          "output_type": "stream",
          "text": [
            ".. _wine_dataset:\n",
            "\n",
            "Wine recognition dataset\n",
            "------------------------\n",
            "\n",
            "**Data Set Characteristics:**\n",
            "\n",
            "    :Number of Instances: 178 (50 in each of three classes)\n",
            "    :Number of Attributes: 13 numeric, predictive attributes and the class\n",
            "    :Attribute Information:\n",
            " \t\t- Alcohol\n",
            " \t\t- Malic acid\n",
            " \t\t- Ash\n",
            "\t\t- Alcalinity of ash  \n",
            " \t\t- Magnesium\n",
            "\t\t- Total phenols\n",
            " \t\t- Flavanoids\n",
            " \t\t- Nonflavanoid phenols\n",
            " \t\t- Proanthocyanins\n",
            "\t\t- Color intensity\n",
            " \t\t- Hue\n",
            " \t\t- OD280/OD315 of diluted wines\n",
            " \t\t- Proline\n",
            "\n",
            "    - class:\n",
            "            - class_0\n",
            "            - class_1\n",
            "            - class_2\n",
            "\t\t\n",
            "    :Summary Statistics:\n",
            "    \n",
            "    ============================= ==== ===== ======= =====\n",
            "                                   Min   Max   Mean     SD\n",
            "    ============================= ==== ===== ======= =====\n",
            "    Alcohol:                      11.0  14.8    13.0   0.8\n",
            "    Malic Acid:                   0.74  5.80    2.34  1.12\n",
            "    Ash:                          1.36  3.23    2.36  0.27\n",
            "    Alcalinity of Ash:            10.6  30.0    19.5   3.3\n",
            "    Magnesium:                    70.0 162.0    99.7  14.3\n",
            "    Total Phenols:                0.98  3.88    2.29  0.63\n",
            "    Flavanoids:                   0.34  5.08    2.03  1.00\n",
            "    Nonflavanoid Phenols:         0.13  0.66    0.36  0.12\n",
            "    Proanthocyanins:              0.41  3.58    1.59  0.57\n",
            "    Colour Intensity:              1.3  13.0     5.1   2.3\n",
            "    Hue:                          0.48  1.71    0.96  0.23\n",
            "    OD280/OD315 of diluted wines: 1.27  4.00    2.61  0.71\n",
            "    Proline:                       278  1680     746   315\n",
            "    ============================= ==== ===== ======= =====\n",
            "\n",
            "    :Missing Attribute Values: None\n",
            "    :Class Distribution: class_0 (59), class_1 (71), class_2 (48)\n",
            "    :Creator: R.A. Fisher\n",
            "    :Donor: Michael Marshall (MARSHALL%PLU@io.arc.nasa.gov)\n",
            "    :Date: July, 1988\n",
            "\n",
            "This is a copy of UCI ML Wine recognition datasets.\n",
            "https://archive.ics.uci.edu/ml/machine-learning-databases/wine/wine.data\n",
            "\n",
            "The data is the results of a chemical analysis of wines grown in the same\n",
            "region in Italy by three different cultivators. There are thirteen different\n",
            "measurements taken for different constituents found in the three types of\n",
            "wine.\n",
            "\n",
            "Original Owners: \n",
            "\n",
            "Forina, M. et al, PARVUS - \n",
            "An Extendible Package for Data Exploration, Classification and Correlation. \n",
            "Institute of Pharmaceutical and Food Analysis and Technologies,\n",
            "Via Brigata Salerno, 16147 Genoa, Italy.\n",
            "\n",
            "Citation:\n",
            "\n",
            "Lichman, M. (2013). UCI Machine Learning Repository\n",
            "[https://archive.ics.uci.edu/ml]. Irvine, CA: University of California,\n",
            "School of Information and Computer Science. \n",
            "\n",
            ".. topic:: References\n",
            "\n",
            "  (1) S. Aeberhard, D. Coomans and O. de Vel, \n",
            "  Comparison of Classifiers in High Dimensional Settings, \n",
            "  Tech. Rep. no. 92-02, (1992), Dept. of Computer Science and Dept. of  \n",
            "  Mathematics and Statistics, James Cook University of North Queensland. \n",
            "  (Also submitted to Technometrics). \n",
            "\n",
            "  The data was used with many others for comparing various \n",
            "  classifiers. The classes are separable, though only RDA \n",
            "  has achieved 100% correct classification. \n",
            "  (RDA : 100%, QDA 99.4%, LDA 98.9%, 1NN 96.1% (z-transformed data)) \n",
            "  (All results using the leave-one-out technique) \n",
            "\n",
            "  (2) S. Aeberhard, D. Coomans and O. de Vel, \n",
            "  \"THE CLASSIFICATION PERFORMANCE OF RDA\" \n",
            "  Tech. Rep. no. 92-01, (1992), Dept. of Computer Science and Dept. of \n",
            "  Mathematics and Statistics, James Cook University of North Queensland. \n",
            "  (Also submitted to Journal of Chemometrics).\n",
            "\n"
          ],
          "name": "stdout"
        }
      ]
    },
    {
      "cell_type": "code",
      "metadata": {
        "id": "gMF7-2nuLSs7",
        "colab": {
          "base_uri": "https://localhost:8080/"
        },
        "outputId": "e2a1f399-0fd9-4f40-d7df-372a02f1f74f"
      },
      "source": [
        "wine.target_names"
      ],
      "execution_count": null,
      "outputs": [
        {
          "output_type": "execute_result",
          "data": {
            "text/plain": [
              "array(['class_0', 'class_1', 'class_2'], dtype='<U7')"
            ]
          },
          "metadata": {
            "tags": []
          },
          "execution_count": 4
        }
      ]
    },
    {
      "cell_type": "code",
      "metadata": {
        "id": "HzuEC8ESLSs8",
        "colab": {
          "base_uri": "https://localhost:8080/"
        },
        "outputId": "11f3aedc-f630-4d52-fa8a-17f24b72f75a"
      },
      "source": [
        "wine.feature_names"
      ],
      "execution_count": null,
      "outputs": [
        {
          "output_type": "execute_result",
          "data": {
            "text/plain": [
              "['alcohol',\n",
              " 'malic_acid',\n",
              " 'ash',\n",
              " 'alcalinity_of_ash',\n",
              " 'magnesium',\n",
              " 'total_phenols',\n",
              " 'flavanoids',\n",
              " 'nonflavanoid_phenols',\n",
              " 'proanthocyanins',\n",
              " 'color_intensity',\n",
              " 'hue',\n",
              " 'od280/od315_of_diluted_wines',\n",
              " 'proline']"
            ]
          },
          "metadata": {
            "tags": []
          },
          "execution_count": 5
        }
      ]
    },
    {
      "cell_type": "code",
      "metadata": {
        "id": "nlRtXxRTLSs9",
        "colab": {
          "base_uri": "https://localhost:8080/"
        },
        "outputId": "c4f3a0ab-3ccf-440f-93a0-490092bc2f0d"
      },
      "source": [
        "wine.data[0:5]"
      ],
      "execution_count": null,
      "outputs": [
        {
          "output_type": "execute_result",
          "data": {
            "text/plain": [
              "array([[1.423e+01, 1.710e+00, 2.430e+00, 1.560e+01, 1.270e+02, 2.800e+00,\n",
              "        3.060e+00, 2.800e-01, 2.290e+00, 5.640e+00, 1.040e+00, 3.920e+00,\n",
              "        1.065e+03],\n",
              "       [1.320e+01, 1.780e+00, 2.140e+00, 1.120e+01, 1.000e+02, 2.650e+00,\n",
              "        2.760e+00, 2.600e-01, 1.280e+00, 4.380e+00, 1.050e+00, 3.400e+00,\n",
              "        1.050e+03],\n",
              "       [1.316e+01, 2.360e+00, 2.670e+00, 1.860e+01, 1.010e+02, 2.800e+00,\n",
              "        3.240e+00, 3.000e-01, 2.810e+00, 5.680e+00, 1.030e+00, 3.170e+00,\n",
              "        1.185e+03],\n",
              "       [1.437e+01, 1.950e+00, 2.500e+00, 1.680e+01, 1.130e+02, 3.850e+00,\n",
              "        3.490e+00, 2.400e-01, 2.180e+00, 7.800e+00, 8.600e-01, 3.450e+00,\n",
              "        1.480e+03],\n",
              "       [1.324e+01, 2.590e+00, 2.870e+00, 2.100e+01, 1.180e+02, 2.800e+00,\n",
              "        2.690e+00, 3.900e-01, 1.820e+00, 4.320e+00, 1.040e+00, 2.930e+00,\n",
              "        7.350e+02]])"
            ]
          },
          "metadata": {
            "tags": []
          },
          "execution_count": 6
        }
      ]
    },
    {
      "cell_type": "code",
      "metadata": {
        "id": "YKLulSAoLSs9",
        "colab": {
          "base_uri": "https://localhost:8080/"
        },
        "outputId": "aa859cb7-f522-4da8-a4eb-66eaba25e1f2"
      },
      "source": [
        "wine.data.shape"
      ],
      "execution_count": null,
      "outputs": [
        {
          "output_type": "execute_result",
          "data": {
            "text/plain": [
              "(178, 13)"
            ]
          },
          "metadata": {
            "tags": []
          },
          "execution_count": 7
        }
      ]
    },
    {
      "cell_type": "code",
      "metadata": {
        "id": "cvCqibwVLSs-",
        "colab": {
          "base_uri": "https://localhost:8080/"
        },
        "outputId": "46f6e743-7723-4afe-8741-dbfcea4fdf46"
      },
      "source": [
        "wine.target.shape"
      ],
      "execution_count": null,
      "outputs": [
        {
          "output_type": "execute_result",
          "data": {
            "text/plain": [
              "(178,)"
            ]
          },
          "metadata": {
            "tags": []
          },
          "execution_count": 8
        }
      ]
    },
    {
      "cell_type": "markdown",
      "metadata": {
        "id": "t0Dst1hJLStA"
      },
      "source": [
        "# Applying KNN"
      ]
    },
    {
      "cell_type": "code",
      "metadata": {
        "id": "14Pp_rcsLStA",
        "colab": {
          "base_uri": "https://localhost:8080/"
        },
        "outputId": "00305887-7224-4cba-d27f-b72666da8bc9"
      },
      "source": [
        "from sklearn.model_selection import train_test_split\n",
        "from sklearn.neighbors import KNeighborsClassifier\n",
        "from sklearn import metrics\n",
        "from sklearn.preprocessing import StandardScaler\n",
        "\n",
        "X_train, X_test, y_train, y_test = train_test_split(wine.data, wine.target, test_size=0.3, random_state=6)\n",
        "\n",
        "scaler = StandardScaler()\n",
        "scaler.fit(X_train)\n",
        "X_train = scaler.transform(X_train)\n",
        "X_test = scaler.transform(X_test)\n",
        "\n",
        "knn = KNeighborsClassifier(n_neighbors=9,metric='mahalanobis',metric_params={'V':np.cov(X_train, rowvar=False)})\n",
        "knn.fit(X_train, y_train)\n",
        "y_pred = knn.predict(X_test)\n",
        "\n",
        "print(\"Accuracy:\",metrics.accuracy_score(y_test, y_pred))"
      ],
      "execution_count": null,
      "outputs": [
        {
          "output_type": "stream",
          "text": [
            "Accuracy: 0.9259259259259259\n"
          ],
          "name": "stdout"
        }
      ]
    },
    {
      "cell_type": "markdown",
      "metadata": {
        "id": "ShErfbXaLStB"
      },
      "source": [
        "Before applying the metric as Mahalanobis the accuracy was 0.75. It improved to 0.92 which is a much better result. "
      ]
    },
    {
      "cell_type": "markdown",
      "metadata": {
        "id": "tF15-NFELStB"
      },
      "source": [
        " Elbow method to find the best value of K (the best value I got is 9 from the elbow method)"
      ]
    },
    {
      "cell_type": "code",
      "metadata": {
        "id": "JB9ky1f1LStC"
      },
      "source": [
        "error = []\n",
        "\n",
        "# Calculating error for K values between 1 and 20\n",
        "for i in range(1,21):\n",
        "    knn = KNeighborsClassifier(metric='mahalanobis',metric_params={'V':np.cov(X_train, rowvar=False)}, n_neighbors=i)\n",
        "    knn.fit(X_train, y_train)\n",
        "    pred_i = knn.predict(X_test)\n",
        "    error.append(np.mean(pred_i != y_test))"
      ],
      "execution_count": null,
      "outputs": []
    },
    {
      "cell_type": "code",
      "metadata": {
        "id": "R5hsKvdjLStC",
        "colab": {
          "base_uri": "https://localhost:8080/",
          "height": 421
        },
        "outputId": "5a91c7a8-1375-4bbd-af47-7e7a72195916"
      },
      "source": [
        "plt.figure(figsize=(12, 6))\n",
        "plt.plot(range(1, 21), error, color='red', linestyle='dashed', marker='o', markerfacecolor='blue', markersize=10)\n",
        "plt.title('Error Rate K Value')\n",
        "plt.xlabel('K Value')\n",
        "plt.ylabel('Mean Error')"
      ],
      "execution_count": null,
      "outputs": [
        {
          "output_type": "execute_result",
          "data": {
            "text/plain": [
              "Text(0, 0.5, 'Mean Error')"
            ]
          },
          "metadata": {
            "tags": []
          },
          "execution_count": 11
        },
        {
          "output_type": "display_data",
          "data": {
            "image/png": "[encoded data removed]",
            "text/plain": [
              "<Figure size 864x432 with 1 Axes>"
            ]
          },
          "metadata": {
            "tags": [],
            "needs_background": "light"
          }
        }
      ]
    },
    {
      "cell_type": "markdown",
      "metadata": {
        "id": "8ylOdOSLLStD"
      },
      "source": [
        "# Applying cross validation"
      ]
    },
    {
      "cell_type": "markdown",
      "metadata": {
        "id": "C-6A4r8SLStD"
      },
      "source": [
        "We select the data validation after observing the data if it is balanced or unbalanced. Here the wine dataset is a balance dataset so Kfold validation will be approaprite for this dataset. If the data would be a highly imbalanced one then Stratified cross validation would give a better result. Similarly for continuos chanaging data we could use Time series cv."
      ]
    },
    {
      "cell_type": "code",
      "metadata": {
        "id": "4sr8ZhfCLStD",
        "colab": {
          "base_uri": "https://localhost:8080/"
        },
        "outputId": "ea50cd3e-0bf2-4df3-bf79-5502b3ff134e"
      },
      "source": [
        "from sklearn.model_selection import KFold\n",
        "k = 3\n",
        "cv = KFold(n_splits = k, shuffle = True)\n",
        "for train_index, test_index in cv.split(wine.data,wine.target): #y is only necessary for stratified splits\n",
        "  print(train_index, \"/\", test_index)"
      ],
      "execution_count": null,
      "outputs": [
        {
          "output_type": "stream",
          "text": [
            "[  1   3   4   5   6   9  11  15  17  18  20  21  22  23  24  25  27  28\n",
            "  29  33  34  35  36  37  39  41  42  43  44  46  49  51  52  54  56  57\n",
            "  58  59  60  61  62  63  64  67  68  69  70  71  75  76  78  79  81  82\n",
            "  83  84  85  86  87  88  89  90  91  93  94  95  96  97  99 100 101 102\n",
            " 104 107 108 109 110 111 114 115 116 117 118 120 123 124 125 126 127 129\n",
            " 130 131 132 133 134 135 138 139 140 142 144 146 149 151 152 155 156 157\n",
            " 159 167 168 169 170 171 172 173 176 177] / [  0   2   7   8  10  12  13  14  16  19  26  30  31  32  38  40  45  47\n",
            "  48  50  53  55  65  66  72  73  74  77  80  92  98 103 105 106 112 113\n",
            " 119 121 122 128 136 137 141 143 145 147 148 150 153 154 158 160 161 162\n",
            " 163 164 165 166 174 175]\n",
            "[  0   1   2   7   8   9  10  11  12  13  14  16  17  18  19  22  24  26\n",
            "  28  29  30  31  32  33  34  35  37  38  40  44  45  46  47  48  49  50\n",
            "  53  54  55  58  61  62  64  65  66  69  71  72  73  74  75  76  77  79\n",
            "  80  82  83  84  85  86  87  90  92  93  94  97  98 101 103 104 105 106\n",
            " 110 112 113 114 115 118 119 121 122 124 126 128 129 130 131 132 133 134\n",
            " 135 136 137 141 142 143 144 145 146 147 148 150 152 153 154 155 158 159\n",
            " 160 161 162 163 164 165 166 168 170 174 175] / [  3   4   5   6  15  20  21  23  25  27  36  39  41  42  43  51  52  56\n",
            "  57  59  60  63  67  68  70  78  81  88  89  91  95  96  99 100 102 107\n",
            " 108 109 111 116 117 120 123 125 127 138 139 140 149 151 156 157 167 169\n",
            " 171 172 173 176 177]\n",
            "[  0   2   3   4   5   6   7   8  10  12  13  14  15  16  19  20  21  23\n",
            "  25  26  27  30  31  32  36  38  39  40  41  42  43  45  47  48  50  51\n",
            "  52  53  55  56  57  59  60  63  65  66  67  68  70  72  73  74  77  78\n",
            "  80  81  88  89  91  92  95  96  98  99 100 102 103 105 106 107 108 109\n",
            " 111 112 113 116 117 119 120 121 122 123 125 127 128 136 137 138 139 140\n",
            " 141 143 145 147 148 149 150 151 153 154 156 157 158 160 161 162 163 164\n",
            " 165 166 167 169 171 172 173 174 175 176 177] / [  1   9  11  17  18  22  24  28  29  33  34  35  37  44  46  49  54  58\n",
            "  61  62  64  69  71  75  76  79  82  83  84  85  86  87  90  93  94  97\n",
            " 101 104 110 114 115 118 124 126 129 130 131 132 133 134 135 142 144 146\n",
            " 152 155 159 168 170]\n"
          ],
          "name": "stdout"
        }
      ]
    },
    {
      "cell_type": "code",
      "metadata": {
        "id": "JPWd9W5wLStE",
        "colab": {
          "base_uri": "https://localhost:8080/"
        },
        "outputId": "67d0a249-18b7-4b69-857b-6d2a3e5b3748"
      },
      "source": [
        "from sklearn.metrics import accuracy_score\n",
        "scores = np.zeros(k)\n",
        "i = 0\n",
        "X = wine.data\n",
        "y = wine.target\n",
        "for train_index, test_index in cv.split(wine.data):\n",
        "  X_train, X_test = wine.data[train_index], wine.data[test_index]\n",
        "  y_train, y_test = wine.target[train_index], wine.target[test_index]\n",
        "    \n",
        "    \n",
        "  knn = KNeighborsClassifier(n_neighbors=9,metric='mahalanobis',metric_params={'V':np.cov(X_train, rowvar=False)})\n",
        "  knn.fit(X_train, y_train)\n",
        "  y_pred = knn.predict(X_test)\n",
        "\n",
        "  scores[i] = accuracy_score(y_test, y_pred)\n",
        "  i += 1\n",
        "\n",
        "print(scores)\n",
        "print(np.mean(scores))\n",
        "print(np.std(scores))"
      ],
      "execution_count": null,
      "outputs": [
        {
          "output_type": "stream",
          "text": [
            "[0.91666667 0.91525424 0.94915254]\n",
            "0.9270244821092279\n",
            "0.015657522738527222\n"
          ],
          "name": "stdout"
        }
      ]
    },
    {
      "cell_type": "code",
      "metadata": {
        "id": "LdeWeVUeLStF",
        "colab": {
          "base_uri": "https://localhost:8080/"
        },
        "outputId": "8d813872-edcd-4a20-bec7-91186e453a05"
      },
      "source": [
        "from sklearn.model_selection import cross_val_score\n",
        "\n",
        "clf = KNeighborsClassifier(n_neighbors=9,metric='mahalanobis',metric_params={'V':np.cov(X_train, rowvar=False)})\n",
        "scores = cross_val_score(clf,  wine.data, wine.target, cv = cv)\n",
        "\n",
        "print(np.mean(scores))\n",
        "print(np.std(scores))\n",
        "print(scores.min())\n",
        "print(scores.max())"
      ],
      "execution_count": null,
      "outputs": [
        {
          "output_type": "stream",
          "text": [
            "0.9155367231638417\n",
            "0.04814043369736703\n",
            "0.847457627118644\n",
            "0.95\n"
          ],
          "name": "stdout"
        }
      ]
    },
    {
      "cell_type": "markdown",
      "metadata": {
        "id": "hlkBN7ixLStF"
      },
      "source": [
        "We can tune the parameter to search for better results or to decrease the difference between min and max values."
      ]
    },
    {
      "cell_type": "markdown",
      "metadata": {
        "id": "hlAPnFfGLStF"
      },
      "source": [
        "# Grid search"
      ]
    },
    {
      "cell_type": "code",
      "metadata": {
        "id": "Ox6Z2DCmLStG",
        "colab": {
          "base_uri": "https://localhost:8080/"
        },
        "outputId": "0977d076-90e7-4def-f4ff-0ec3f5a342e3"
      },
      "source": [
        "from sklearn.model_selection import GridSearchCV\n",
        "\n",
        "param_grid = { 'n_neighbors' : list(range(1,15)),\n",
        "               'p' : list(range(1,7))}\n",
        "\n",
        "search = GridSearchCV(clf, param_grid, scoring = 'accuracy', n_jobs =-1)\n",
        "search.fit(X,y)"
      ],
      "execution_count": null,
      "outputs": [
        {
          "output_type": "execute_result",
          "data": {
            "text/plain": [
              "GridSearchCV(cv=None, error_score=nan,\n",
              "             estimator=KNeighborsClassifier(algorithm='auto', leaf_size=30,\n",
              "                                            metric='mahalanobis',\n",
              "                                            metric_params={'V': array([[ 6.62470588e-01,  8.64702891e-02,  3.48164506e-02,\n",
              "        -8.07683450e-01,  2.40305085e+00,  1.53910818e-01,\n",
              "         2.13119442e-01, -1.60431206e-02,  7.02129611e-02,\n",
              "         9.15997358e-01, -2.90234297e-03,  7.25838485e-02,\n",
              "         1.69899093e+02],\n",
              "       [ 8.64...\n",
              "         1.65696060e+02, -1.12937915e+01,  6.60848191e+01,\n",
              "         2.28932266e+02,  1.78724412e+01,  8.13079974e+01,\n",
              "         1.06979241e+05]])},\n",
              "                                            n_jobs=None, n_neighbors=9, p=2,\n",
              "                                            weights='uniform'),\n",
              "             iid='deprecated', n_jobs=-1,\n",
              "             param_grid={'n_neighbors': [1, 2, 3, 4, 5, 6, 7, 8, 9, 10, 11, 12,\n",
              "                                         13, 14],\n",
              "                         'p': [1, 2, 3, 4, 5, 6]},\n",
              "             pre_dispatch='2*n_jobs', refit=True, return_train_score=False,\n",
              "             scoring='accuracy', verbose=0)"
            ]
          },
          "metadata": {
            "tags": []
          },
          "execution_count": 15
        }
      ]
    },
    {
      "cell_type": "code",
      "metadata": {
        "id": "0Jwl1ERPLStG",
        "colab": {
          "base_uri": "https://localhost:8080/"
        },
        "outputId": "2a739a4b-2353-4297-f4ff-03ba5f74a9e8"
      },
      "source": [
        "search.best_estimator_"
      ],
      "execution_count": null,
      "outputs": [
        {
          "output_type": "execute_result",
          "data": {
            "text/plain": [
              "KNeighborsClassifier(algorithm='auto', leaf_size=30, metric='mahalanobis',\n",
              "                     metric_params={'V': array([[ 6.62470588e-01,  8.64702891e-02,  3.48164506e-02,\n",
              "        -8.07683450e-01,  2.40305085e+00,  1.53910818e-01,\n",
              "         2.13119442e-01, -1.60431206e-02,  7.02129611e-02,\n",
              "         9.15997358e-01, -2.90234297e-03,  7.25838485e-02,\n",
              "         1.69899093e+02],\n",
              "       [ 8.64702891e-02,  1.14725713e+00,  3.76763709e-02,\n",
              "         1.1305...\n",
              "         5.72884005e-01, -4.58283008e-02,  2.04937844e-01,\n",
              "        -6.90814920e-01,  9.80576841e-02,  5.01708218e-01,\n",
              "         8.13079974e+01],\n",
              "       [ 1.69899093e+02, -6.38388185e+01,  1.68544780e+01,\n",
              "        -5.02998248e+02,  1.59491646e+03,  1.05418334e+02,\n",
              "         1.65696060e+02, -1.12937915e+01,  6.60848191e+01,\n",
              "         2.28932266e+02,  1.78724412e+01,  8.13079974e+01,\n",
              "         1.06979241e+05]])},\n",
              "                     n_jobs=None, n_neighbors=3, p=1, weights='uniform')"
            ]
          },
          "metadata": {
            "tags": []
          },
          "execution_count": 16
        }
      ]
    },
    {
      "cell_type": "code",
      "metadata": {
        "id": "pWueqO3ELStG"
      },
      "source": [
        "k = search.cv_results_['param_n_neighbors']\n",
        "p = search.cv_results_['param_p']\n",
        "scores = search.cv_results_['mean_test_score']"
      ],
      "execution_count": null,
      "outputs": []
    },
    {
      "cell_type": "code",
      "metadata": {
        "id": "Xl038zjeLStH",
        "colab": {
          "base_uri": "https://localhost:8080/",
          "height": 171
        },
        "outputId": "903f2254-21e7-45b2-8423-8ba7a4430aa1"
      },
      "source": [
        "import matplotlib.pyplot as plt\n",
        "\n",
        "plt.figure(figsize=(6,2))\n",
        "plt.scatter(k, p, c=scores, marker='s', s=180)\n",
        "plt.xlabel('k')\n",
        "plt.ylabel('p')\n",
        "plt.colorbar()\n",
        "plt.show()"
      ],
      "execution_count": null,
      "outputs": [
        {
          "output_type": "display_data",
          "data": {
            "image/png": "[encoded data removed]",
            "text/plain": [
              "<Figure size 432x144 with 2 Axes>"
            ]
          },
          "metadata": {
            "tags": [],
            "needs_background": "light"
          }
        }
      ]
    },
    {
      "cell_type": "markdown",
      "metadata": {
        "id": "w5uLGSkSzS5J"
      },
      "source": [
        "From this grid search we can see the best K value is 3"
      ]
    },
    {
      "cell_type": "code",
      "metadata": {
        "id": "s5jmOZgMLStH",
        "colab": {
          "base_uri": "https://localhost:8080/"
        },
        "outputId": "a6b6786b-f45f-4079-8f0c-9efe2254f07a"
      },
      "source": [
        "grid_params =[{'n_neighbors' : list(range(1,15)), \n",
        "             'metric': ['euclidean', 'minkowski','mahalanobis'],\n",
        "            'p' : list(range(1,7))}]\n",
        "search2 = GridSearchCV(clf, grid_params, scoring = 'accuracy', n_jobs =-1)\n",
        "search2.fit(X,y)"
      ],
      "execution_count": null,
      "outputs": [
        {
          "output_type": "execute_result",
          "data": {
            "text/plain": [
              "GridSearchCV(cv=None, error_score=nan,\n",
              "             estimator=KNeighborsClassifier(algorithm='auto', leaf_size=30,\n",
              "                                            metric='mahalanobis',\n",
              "                                            metric_params={'V': array([[ 6.62470588e-01,  8.64702891e-02,  3.48164506e-02,\n",
              "        -8.07683450e-01,  2.40305085e+00,  1.53910818e-01,\n",
              "         2.13119442e-01, -1.60431206e-02,  7.02129611e-02,\n",
              "         9.15997358e-01, -2.90234297e-03,  7.25838485e-02,\n",
              "         1.69899093e+02],\n",
              "       [ 8.64...\n",
              "         2.28932266e+02,  1.78724412e+01,  8.13079974e+01,\n",
              "         1.06979241e+05]])},\n",
              "                                            n_jobs=None, n_neighbors=9, p=2,\n",
              "                                            weights='uniform'),\n",
              "             iid='deprecated', n_jobs=-1,\n",
              "             param_grid=[{'metric': ['euclidean', 'minkowski', 'mahalanobis'],\n",
              "                          'n_neighbors': [1, 2, 3, 4, 5, 6, 7, 8, 9, 10, 11, 12,\n",
              "                                          13, 14],\n",
              "                          'p': [1, 2, 3, 4, 5, 6]}],\n",
              "             pre_dispatch='2*n_jobs', refit=True, return_train_score=False,\n",
              "             scoring='accuracy', verbose=0)"
            ]
          },
          "metadata": {
            "tags": []
          },
          "execution_count": 19
        }
      ]
    },
    {
      "cell_type": "code",
      "metadata": {
        "id": "RNSHU13aLStH",
        "colab": {
          "base_uri": "https://localhost:8080/"
        },
        "outputId": "eb763a53-a774-4c5b-cb77-691000ab5341"
      },
      "source": [
        "search2.best_estimator_"
      ],
      "execution_count": null,
      "outputs": [
        {
          "output_type": "execute_result",
          "data": {
            "text/plain": [
              "KNeighborsClassifier(algorithm='auto', leaf_size=30, metric='mahalanobis',\n",
              "                     metric_params={'V': array([[ 6.62470588e-01,  8.64702891e-02,  3.48164506e-02,\n",
              "        -8.07683450e-01,  2.40305085e+00,  1.53910818e-01,\n",
              "         2.13119442e-01, -1.60431206e-02,  7.02129611e-02,\n",
              "         9.15997358e-01, -2.90234297e-03,  7.25838485e-02,\n",
              "         1.69899093e+02],\n",
              "       [ 8.64702891e-02,  1.14725713e+00,  3.76763709e-02,\n",
              "         1.1305...\n",
              "         5.72884005e-01, -4.58283008e-02,  2.04937844e-01,\n",
              "        -6.90814920e-01,  9.80576841e-02,  5.01708218e-01,\n",
              "         8.13079974e+01],\n",
              "       [ 1.69899093e+02, -6.38388185e+01,  1.68544780e+01,\n",
              "        -5.02998248e+02,  1.59491646e+03,  1.05418334e+02,\n",
              "         1.65696060e+02, -1.12937915e+01,  6.60848191e+01,\n",
              "         2.28932266e+02,  1.78724412e+01,  8.13079974e+01,\n",
              "         1.06979241e+05]])},\n",
              "                     n_jobs=None, n_neighbors=3, p=1, weights='uniform')"
            ]
          },
          "metadata": {
            "tags": []
          },
          "execution_count": 20
        }
      ]
    },
    {
      "cell_type": "markdown",
      "metadata": {
        "id": "Pr0_s7uxLStI"
      },
      "source": [
        "The best option I found for k value is 3 and the distance metric is Mahalanobis."
      ]
    },
    {
      "cell_type": "code",
      "metadata": {
        "id": "ou6cCveKLStI",
        "colab": {
          "base_uri": "https://localhost:8080/"
        },
        "outputId": "8471ca7c-6126-48b9-b108-7bdabe4a2514"
      },
      "source": [
        "search2.best_params_"
      ],
      "execution_count": null,
      "outputs": [
        {
          "output_type": "execute_result",
          "data": {
            "text/plain": [
              "{'metric': 'mahalanobis', 'n_neighbors': 3, 'p': 1}"
            ]
          },
          "metadata": {
            "tags": []
          },
          "execution_count": 21
        }
      ]
    },
    {
      "cell_type": "code",
      "metadata": {
        "id": "gzhsPfS_LStI"
      },
      "source": [
        "from sklearn.model_selection import KFold\n",
        "model = KNeighborsClassifier(metric = 'mahalanobis',metric_params={'V':np.cov(X_train, rowvar=False)}, n_neighbors= 3, p= 1)\n",
        "Kfold_Validation = KFold(10)"
      ],
      "execution_count": null,
      "outputs": []
    },
    {
      "cell_type": "code",
      "metadata": {
        "id": "-XB68hG5LStJ",
        "colab": {
          "base_uri": "https://localhost:8080/"
        },
        "outputId": "4041e4c0-ea86-4786-f703-e51dc9365ded"
      },
      "source": [
        "import numpy as np\n",
        "from sklearn.model_selection import cross_val_score\n",
        "\n",
        "scores = cross_val_score(model,  wine.data, wine.target, cv = cv)\n",
        "\n",
        "print(np.mean(scores))\n",
        "print(np.std(scores))\n",
        "print(scores.min())\n",
        "print(scores.max())"
      ],
      "execution_count": null,
      "outputs": [
        {
          "output_type": "stream",
          "text": [
            "0.9098870056497175\n",
            "0.03514878114145401\n",
            "0.864406779661017\n",
            "0.95\n"
          ],
          "name": "stdout"
        }
      ]
    },
    {
      "cell_type": "markdown",
      "metadata": {
        "id": "CwLjJKtzLStJ"
      },
      "source": [
        "After applying best parameters to the KNN model the difference between the min and mx has decreased."
      ]
    },
    {
      "cell_type": "markdown",
      "metadata": {
        "id": "5Q-eI4DpLStJ"
      },
      "source": [
        "# KMeans Clustering"
      ]
    },
    {
      "cell_type": "code",
      "metadata": {
        "id": "0VrVU79cLStK"
      },
      "source": [
        "cls = KMeans(n_clusters=3)\n",
        "cls.fit(X)\n",
        "y_pred = cls.predict(X)"
      ],
      "execution_count": null,
      "outputs": []
    },
    {
      "cell_type": "code",
      "metadata": {
        "id": "kkhtls-TLStK",
        "colab": {
          "base_uri": "https://localhost:8080/",
          "height": 394
        },
        "outputId": "2bb5066e-5aab-4393-ae28-e182555dcd20"
      },
      "source": [
        "plt.figure(figsize=[8,6])\n",
        "\n",
        "plt.subplot(2,2,1)\n",
        "plt.scatter(X[:,0],X[:,1],c=y)\n",
        "\n",
        "plt.subplot(2,2,2)\n",
        "plt.scatter(X[:,0],X[:,1],c=y_pred)\n",
        "\n",
        "plt.subplot(2,2,3)\n",
        "plt.scatter(X[:,2],X[:,3],c=y)\n",
        "\n",
        "plt.subplot(2,2,4)\n",
        "plt.scatter(X[:,2],X[:,3],c=y_pred)"
      ],
      "execution_count": null,
      "outputs": [
        {
          "output_type": "execute_result",
          "data": {
            "text/plain": [
              "<matplotlib.collections.PathCollection at 0x7f6efce83550>"
            ]
          },
          "metadata": {
            "tags": []
          },
          "execution_count": 25
        },
        {
          "output_type": "display_data",
          "data": {
            "image/png": "[encoded data removed]",
            "text/plain": [
              "<Figure size 576x432 with 4 Axes>"
            ]
          },
          "metadata": {
            "tags": [],
            "needs_background": "light"
          }
        }
      ]
    },
    {
      "cell_type": "code",
      "metadata": {
        "id": "DOmR6Jd7LStK",
        "colab": {
          "base_uri": "https://localhost:8080/",
          "height": 307
        },
        "outputId": "e4b3827c-d13a-401d-8c82-6ade8389e242"
      },
      "source": [
        "squares = []\n",
        "for n in range(1,15):\n",
        "  cls = KMeans(n_clusters=n)\n",
        "  cls.fit(X)\n",
        "  squares.append(cls.inertia_)\n",
        "plt.scatter(range(1,15),squares,marker='*') \n",
        "plt.xlabel('Number of clusters')\n",
        "plt.ylabel('Inertia')"
      ],
      "execution_count": null,
      "outputs": [
        {
          "output_type": "execute_result",
          "data": {
            "text/plain": [
              "Text(0, 0.5, 'Inertia')"
            ]
          },
          "metadata": {
            "tags": []
          },
          "execution_count": 26
        },
        {
          "output_type": "display_data",
          "data": {
            "image/png": "[encoded data removed]",
            "text/plain": [
              "<Figure size 432x288 with 1 Axes>"
            ]
          },
          "metadata": {
            "tags": [],
            "needs_background": "light"
          }
        }
      ]
    },
    {
      "cell_type": "markdown",
      "metadata": {
        "id": "9tCHvMJvLStK"
      },
      "source": [
        "Looking at the above elbow curve, we can choose any number of clusters between 2 to 4. So 3 is the optimum cluster value here."
      ]
    },
    {
      "cell_type": "code",
      "metadata": {
        "id": "iKtj4oaYLStL",
        "colab": {
          "base_uri": "https://localhost:8080/"
        },
        "outputId": "4492c539-5205-4d8c-bfb5-e5c3d9bbf5ba"
      },
      "source": [
        "#print(\"Accuracy:\",metrics.accuracy_score(y_test, y_pred))\n",
        "cls.inertia_"
      ],
      "execution_count": null,
      "outputs": [
        {
          "output_type": "execute_result",
          "data": {
            "text/plain": [
              "123295.08033034153"
            ]
          },
          "metadata": {
            "tags": []
          },
          "execution_count": 27
        }
      ]
    },
    {
      "cell_type": "markdown",
      "metadata": {
        "id": "vSqSXaezLStL"
      },
      "source": [
        "The value of inertia decreases as the number of clusters increase. So, its a trade-off here. Rule of thumb: The elbow point in the inertia graph is a good choice because after that the change in the value of inertia isn't significant. K=3 is the optimal choice."
      ]
    },
    {
      "cell_type": "code",
      "metadata": {
        "id": "d4KvXlc_LStL"
      },
      "source": [],
      "execution_count": null,
      "outputs": []
    }
  ]
}
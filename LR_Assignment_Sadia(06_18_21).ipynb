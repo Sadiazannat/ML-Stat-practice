{
  "nbformat": 4,
  "nbformat_minor": 0,
  "metadata": {
    "colab": {
      "provenance": []
    },
    "kernelspec": {
      "display_name": "Python 3",
      "name": "python3"
    },
    "language_info": {
      "name": "python"
    }
  },
  "cells": [
    {
      "cell_type": "code",
      "metadata": {
        "id": "kc36Sr3RHd0e"
      },
      "source": [
        "import numpy as np\n",
        "import pandas as pd\n",
        "import matplotlib.pyplot as plt\n",
        "from sklearn import preprocessing\n",
        "from sklearn.metrics import r2_score\n",
        "import seaborn as sns"
      ],
      "execution_count": null,
      "outputs": []
    },
    {
      "cell_type": "code",
      "metadata": {
        "colab": {
          "resources": {
            "http://localhost:8080/nbextensions/google.colab/files.js": {
              "data": "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",
              "ok": true,
              "headers": [
                [
                  "content-type",
                  "application/javascript"
                ]
              ],
              "status": 200,
              "status_text": ""
            }
          },
          "base_uri": "https://localhost:8080/",
          "height": 73
        },
        "id": "SWpK6UzqMu_2",
        "outputId": "2c58a90d-b982-49be-b208-db66cec55af9"
      },
      "source": [
        "from google.colab import files\n",
        "uploaded = files.upload()"
      ],
      "execution_count": null,
      "outputs": [
        {
          "output_type": "display_data",
          "data": {
            "text/html": [
              "\n",
              "     <input type=\"file\" id=\"files-55cab581-2a88-42e7-9ae3-eb3156001cc7\" name=\"files[]\" multiple disabled\n",
              "        style=\"border:none\" />\n",
              "     <output id=\"result-55cab581-2a88-42e7-9ae3-eb3156001cc7\">\n",
              "      Upload widget is only available when the cell has been executed in the\n",
              "      current browser session. Please rerun this cell to enable.\n",
              "      </output>\n",
              "      <script src=\"/nbextensions/google.colab/files.js\"></script> "
            ],
            "text/plain": [
              "<IPython.core.display.HTML object>"
            ]
          },
          "metadata": {
            "tags": []
          }
        },
        {
          "output_type": "stream",
          "text": [
            "Saving ANSUR_II_FEMALE_Public.csv to ANSUR_II_FEMALE_Public (2).csv\n"
          ],
          "name": "stdout"
        }
      ]
    },
    {
      "cell_type": "markdown",
      "metadata": {
        "id": "sW0TCNjLjG4N"
      },
      "source": [
        "# Here I have used ANSUR_II_FEMALE_Public.csv data for the Assignment. I will be predicting the weight of females from this dataset. As it is a dataset from army I think there existing a pattern with every body mesurements and the weights can be predicted from the other body mesurements. There existing two columns for weight, to keep the calculation fair I have not taken the other column of weight as one of the features.\n",
        "\n",
        "\n",
        "###The list of features:     \n",
        "\n",
        "\n",
        "\n",
        "\n",
        "\n",
        "* Heightin\n",
        "* buttockcircumference\n",
        "* thighcircumference\n",
        "* bideltoidbreadth\n",
        "* bicepscircumferenceflexed\n",
        "* buttockdepth\n",
        "* verticaltrunkcircumferenceusa\n",
        "* waistcircumference\n",
        "* thighclearance\n",
        "* hipbreadthsitting\n",
        "* buttockcircumference\n",
        " \n",
        "The values of weight will be predicted\n",
        "\n",
        "\n",
        "\n"
      ]
    },
    {
      "cell_type": "code",
      "metadata": {
        "id": "E8j38C_ENduP"
      },
      "source": [
        "import io\n",
        "df = pd.read_csv(io.BytesIO(uploaded['ANSUR_II_FEMALE_Public.csv']))"
      ],
      "execution_count": null,
      "outputs": []
    },
    {
      "cell_type": "code",
      "metadata": {
        "colab": {
          "base_uri": "https://localhost:8080/"
        },
        "id": "bBWufuDLNnkJ",
        "outputId": "183b641f-482a-4b83-9acd-6a30693efaeb"
      },
      "source": [
        "len(df.columns)"
      ],
      "execution_count": null,
      "outputs": [
        {
          "output_type": "execute_result",
          "data": {
            "text/plain": [
              "108"
            ]
          },
          "metadata": {
            "tags": []
          },
          "execution_count": 133
        }
      ]
    },
    {
      "cell_type": "code",
      "metadata": {
        "colab": {
          "base_uri": "https://localhost:8080/",
          "height": 355
        },
        "id": "JSLDwlSlYM_t",
        "outputId": "92aa6e17-bd37-43fe-f09b-6af879317f1a"
      },
      "source": [
        "df.head(4)"
      ],
      "execution_count": null,
      "outputs": [
        {
          "output_type": "execute_result",
          "data": {
            "text/html": [
              "<div>\n",
              "<style scoped>\n",
              "    .dataframe tbody tr th:only-of-type {\n",
              "        vertical-align: middle;\n",
              "    }\n",
              "\n",
              "    .dataframe tbody tr th {\n",
              "        vertical-align: top;\n",
              "    }\n",
              "\n",
              "    .dataframe thead th {\n",
              "        text-align: right;\n",
              "    }\n",
              "</style>\n",
              "<table border=\"1\" class=\"dataframe\">\n",
              "  <thead>\n",
              "    <tr style=\"text-align: right;\">\n",
              "      <th></th>\n",
              "      <th>SubjectId</th>\n",
              "      <th>abdominalextensiondepthsitting</th>\n",
              "      <th>acromialheight</th>\n",
              "      <th>acromionradialelength</th>\n",
              "      <th>anklecircumference</th>\n",
              "      <th>axillaheight</th>\n",
              "      <th>balloffootcircumference</th>\n",
              "      <th>balloffootlength</th>\n",
              "      <th>biacromialbreadth</th>\n",
              "      <th>bicepscircumferenceflexed</th>\n",
              "      <th>bicristalbreadth</th>\n",
              "      <th>bideltoidbreadth</th>\n",
              "      <th>bimalleolarbreadth</th>\n",
              "      <th>bitragionchinarc</th>\n",
              "      <th>bitragionsubmandibulararc</th>\n",
              "      <th>bizygomaticbreadth</th>\n",
              "      <th>buttockcircumference</th>\n",
              "      <th>buttockdepth</th>\n",
              "      <th>buttockheight</th>\n",
              "      <th>buttockkneelength</th>\n",
              "      <th>buttockpopliteallength</th>\n",
              "      <th>calfcircumference</th>\n",
              "      <th>cervicaleheight</th>\n",
              "      <th>chestbreadth</th>\n",
              "      <th>chestcircumference</th>\n",
              "      <th>chestdepth</th>\n",
              "      <th>chestheight</th>\n",
              "      <th>crotchheight</th>\n",
              "      <th>crotchlengthomphalion</th>\n",
              "      <th>crotchlengthposterioromphalion</th>\n",
              "      <th>earbreadth</th>\n",
              "      <th>earlength</th>\n",
              "      <th>earprotrusion</th>\n",
              "      <th>elbowrestheight</th>\n",
              "      <th>eyeheightsitting</th>\n",
              "      <th>footbreadthhorizontal</th>\n",
              "      <th>footlength</th>\n",
              "      <th>forearmcenterofgriplength</th>\n",
              "      <th>forearmcircumferenceflexed</th>\n",
              "      <th>forearmforearmbreadth</th>\n",
              "      <th>...</th>\n",
              "      <th>shouldercircumference</th>\n",
              "      <th>shoulderelbowlength</th>\n",
              "      <th>shoulderlength</th>\n",
              "      <th>sittingheight</th>\n",
              "      <th>sleevelengthspinewrist</th>\n",
              "      <th>sleeveoutseam</th>\n",
              "      <th>span</th>\n",
              "      <th>stature</th>\n",
              "      <th>suprasternaleheight</th>\n",
              "      <th>tenthribheight</th>\n",
              "      <th>thighcircumference</th>\n",
              "      <th>thighclearance</th>\n",
              "      <th>thumbtipreach</th>\n",
              "      <th>tibialheight</th>\n",
              "      <th>tragiontopofhead</th>\n",
              "      <th>trochanterionheight</th>\n",
              "      <th>verticaltrunkcircumferenceusa</th>\n",
              "      <th>waistbacklength</th>\n",
              "      <th>waistbreadth</th>\n",
              "      <th>waistcircumference</th>\n",
              "      <th>waistdepth</th>\n",
              "      <th>waistfrontlengthsitting</th>\n",
              "      <th>waistheightomphalion</th>\n",
              "      <th>weightkg</th>\n",
              "      <th>wristcircumference</th>\n",
              "      <th>wristheight</th>\n",
              "      <th>Gender</th>\n",
              "      <th>Date</th>\n",
              "      <th>Installation</th>\n",
              "      <th>Component</th>\n",
              "      <th>Branch</th>\n",
              "      <th>PrimaryMOS</th>\n",
              "      <th>SubjectsBirthLocation</th>\n",
              "      <th>SubjectNumericRace</th>\n",
              "      <th>Ethnicity</th>\n",
              "      <th>DODRace</th>\n",
              "      <th>Age</th>\n",
              "      <th>Heightin</th>\n",
              "      <th>Weightlbs</th>\n",
              "      <th>WritingPreference</th>\n",
              "    </tr>\n",
              "  </thead>\n",
              "  <tbody>\n",
              "    <tr>\n",
              "      <th>0</th>\n",
              "      <td>10037</td>\n",
              "      <td>231</td>\n",
              "      <td>1282</td>\n",
              "      <td>301</td>\n",
              "      <td>204</td>\n",
              "      <td>1180</td>\n",
              "      <td>222</td>\n",
              "      <td>177</td>\n",
              "      <td>373</td>\n",
              "      <td>315</td>\n",
              "      <td>263</td>\n",
              "      <td>466</td>\n",
              "      <td>65</td>\n",
              "      <td>338</td>\n",
              "      <td>301</td>\n",
              "      <td>141</td>\n",
              "      <td>1011</td>\n",
              "      <td>223</td>\n",
              "      <td>836</td>\n",
              "      <td>587</td>\n",
              "      <td>476</td>\n",
              "      <td>360</td>\n",
              "      <td>1336</td>\n",
              "      <td>274</td>\n",
              "      <td>922</td>\n",
              "      <td>245</td>\n",
              "      <td>1095</td>\n",
              "      <td>759</td>\n",
              "      <td>557</td>\n",
              "      <td>310</td>\n",
              "      <td>35</td>\n",
              "      <td>65</td>\n",
              "      <td>16</td>\n",
              "      <td>220</td>\n",
              "      <td>713</td>\n",
              "      <td>91</td>\n",
              "      <td>246</td>\n",
              "      <td>316</td>\n",
              "      <td>265</td>\n",
              "      <td>517</td>\n",
              "      <td>...</td>\n",
              "      <td>1062</td>\n",
              "      <td>327</td>\n",
              "      <td>148</td>\n",
              "      <td>803</td>\n",
              "      <td>809</td>\n",
              "      <td>513</td>\n",
              "      <td>1647</td>\n",
              "      <td>1560</td>\n",
              "      <td>1280</td>\n",
              "      <td>1013</td>\n",
              "      <td>622</td>\n",
              "      <td>174</td>\n",
              "      <td>736</td>\n",
              "      <td>430</td>\n",
              "      <td>110</td>\n",
              "      <td>844</td>\n",
              "      <td>1488</td>\n",
              "      <td>406</td>\n",
              "      <td>295</td>\n",
              "      <td>850</td>\n",
              "      <td>217</td>\n",
              "      <td>345</td>\n",
              "      <td>942</td>\n",
              "      <td>657</td>\n",
              "      <td>152</td>\n",
              "      <td>756</td>\n",
              "      <td>Female</td>\n",
              "      <td>5-Oct-10</td>\n",
              "      <td>Fort Hood</td>\n",
              "      <td>Regular Army</td>\n",
              "      <td>Combat Support</td>\n",
              "      <td>92Y</td>\n",
              "      <td>Germany</td>\n",
              "      <td>2</td>\n",
              "      <td>NaN</td>\n",
              "      <td>2</td>\n",
              "      <td>26</td>\n",
              "      <td>61</td>\n",
              "      <td>142</td>\n",
              "      <td>Right hand</td>\n",
              "    </tr>\n",
              "    <tr>\n",
              "      <th>1</th>\n",
              "      <td>10038</td>\n",
              "      <td>194</td>\n",
              "      <td>1379</td>\n",
              "      <td>320</td>\n",
              "      <td>207</td>\n",
              "      <td>1292</td>\n",
              "      <td>225</td>\n",
              "      <td>178</td>\n",
              "      <td>372</td>\n",
              "      <td>272</td>\n",
              "      <td>250</td>\n",
              "      <td>430</td>\n",
              "      <td>64</td>\n",
              "      <td>294</td>\n",
              "      <td>270</td>\n",
              "      <td>126</td>\n",
              "      <td>893</td>\n",
              "      <td>186</td>\n",
              "      <td>900</td>\n",
              "      <td>583</td>\n",
              "      <td>483</td>\n",
              "      <td>350</td>\n",
              "      <td>1440</td>\n",
              "      <td>261</td>\n",
              "      <td>839</td>\n",
              "      <td>206</td>\n",
              "      <td>1234</td>\n",
              "      <td>835</td>\n",
              "      <td>549</td>\n",
              "      <td>329</td>\n",
              "      <td>32</td>\n",
              "      <td>60</td>\n",
              "      <td>23</td>\n",
              "      <td>208</td>\n",
              "      <td>726</td>\n",
              "      <td>91</td>\n",
              "      <td>249</td>\n",
              "      <td>341</td>\n",
              "      <td>247</td>\n",
              "      <td>468</td>\n",
              "      <td>...</td>\n",
              "      <td>1014</td>\n",
              "      <td>346</td>\n",
              "      <td>142</td>\n",
              "      <td>835</td>\n",
              "      <td>810</td>\n",
              "      <td>575</td>\n",
              "      <td>1751</td>\n",
              "      <td>1665</td>\n",
              "      <td>1372</td>\n",
              "      <td>1107</td>\n",
              "      <td>524</td>\n",
              "      <td>152</td>\n",
              "      <td>771</td>\n",
              "      <td>475</td>\n",
              "      <td>125</td>\n",
              "      <td>901</td>\n",
              "      <td>1470</td>\n",
              "      <td>422</td>\n",
              "      <td>254</td>\n",
              "      <td>708</td>\n",
              "      <td>168</td>\n",
              "      <td>329</td>\n",
              "      <td>1032</td>\n",
              "      <td>534</td>\n",
              "      <td>155</td>\n",
              "      <td>815</td>\n",
              "      <td>Female</td>\n",
              "      <td>5-Oct-10</td>\n",
              "      <td>Fort Hood</td>\n",
              "      <td>Regular Army</td>\n",
              "      <td>Combat Service Support</td>\n",
              "      <td>25U</td>\n",
              "      <td>California</td>\n",
              "      <td>3</td>\n",
              "      <td>Mexican</td>\n",
              "      <td>3</td>\n",
              "      <td>21</td>\n",
              "      <td>64</td>\n",
              "      <td>120</td>\n",
              "      <td>Right hand</td>\n",
              "    </tr>\n",
              "    <tr>\n",
              "      <th>2</th>\n",
              "      <td>10042</td>\n",
              "      <td>183</td>\n",
              "      <td>1369</td>\n",
              "      <td>329</td>\n",
              "      <td>233</td>\n",
              "      <td>1271</td>\n",
              "      <td>237</td>\n",
              "      <td>196</td>\n",
              "      <td>397</td>\n",
              "      <td>300</td>\n",
              "      <td>276</td>\n",
              "      <td>450</td>\n",
              "      <td>69</td>\n",
              "      <td>309</td>\n",
              "      <td>270</td>\n",
              "      <td>128</td>\n",
              "      <td>987</td>\n",
              "      <td>204</td>\n",
              "      <td>861</td>\n",
              "      <td>583</td>\n",
              "      <td>466</td>\n",
              "      <td>384</td>\n",
              "      <td>1451</td>\n",
              "      <td>287</td>\n",
              "      <td>874</td>\n",
              "      <td>223</td>\n",
              "      <td>1226</td>\n",
              "      <td>821</td>\n",
              "      <td>643</td>\n",
              "      <td>374</td>\n",
              "      <td>36</td>\n",
              "      <td>65</td>\n",
              "      <td>26</td>\n",
              "      <td>204</td>\n",
              "      <td>790</td>\n",
              "      <td>100</td>\n",
              "      <td>265</td>\n",
              "      <td>343</td>\n",
              "      <td>262</td>\n",
              "      <td>488</td>\n",
              "      <td>...</td>\n",
              "      <td>1049</td>\n",
              "      <td>362</td>\n",
              "      <td>164</td>\n",
              "      <td>904</td>\n",
              "      <td>855</td>\n",
              "      <td>568</td>\n",
              "      <td>1779</td>\n",
              "      <td>1711</td>\n",
              "      <td>1383</td>\n",
              "      <td>1089</td>\n",
              "      <td>577</td>\n",
              "      <td>164</td>\n",
              "      <td>814</td>\n",
              "      <td>458</td>\n",
              "      <td>129</td>\n",
              "      <td>882</td>\n",
              "      <td>1542</td>\n",
              "      <td>419</td>\n",
              "      <td>269</td>\n",
              "      <td>727</td>\n",
              "      <td>159</td>\n",
              "      <td>367</td>\n",
              "      <td>1035</td>\n",
              "      <td>663</td>\n",
              "      <td>162</td>\n",
              "      <td>799</td>\n",
              "      <td>Female</td>\n",
              "      <td>5-Oct-10</td>\n",
              "      <td>Fort Hood</td>\n",
              "      <td>Regular Army</td>\n",
              "      <td>Combat Service Support</td>\n",
              "      <td>35D</td>\n",
              "      <td>Texas</td>\n",
              "      <td>1</td>\n",
              "      <td>NaN</td>\n",
              "      <td>1</td>\n",
              "      <td>23</td>\n",
              "      <td>68</td>\n",
              "      <td>147</td>\n",
              "      <td>Right hand</td>\n",
              "    </tr>\n",
              "    <tr>\n",
              "      <th>3</th>\n",
              "      <td>10043</td>\n",
              "      <td>261</td>\n",
              "      <td>1356</td>\n",
              "      <td>306</td>\n",
              "      <td>214</td>\n",
              "      <td>1250</td>\n",
              "      <td>240</td>\n",
              "      <td>188</td>\n",
              "      <td>384</td>\n",
              "      <td>364</td>\n",
              "      <td>276</td>\n",
              "      <td>484</td>\n",
              "      <td>68</td>\n",
              "      <td>340</td>\n",
              "      <td>294</td>\n",
              "      <td>144</td>\n",
              "      <td>1012</td>\n",
              "      <td>253</td>\n",
              "      <td>897</td>\n",
              "      <td>599</td>\n",
              "      <td>471</td>\n",
              "      <td>372</td>\n",
              "      <td>1430</td>\n",
              "      <td>269</td>\n",
              "      <td>1008</td>\n",
              "      <td>285</td>\n",
              "      <td>1170</td>\n",
              "      <td>804</td>\n",
              "      <td>640</td>\n",
              "      <td>351</td>\n",
              "      <td>38</td>\n",
              "      <td>62</td>\n",
              "      <td>22</td>\n",
              "      <td>244</td>\n",
              "      <td>775</td>\n",
              "      <td>97</td>\n",
              "      <td>265</td>\n",
              "      <td>331</td>\n",
              "      <td>309</td>\n",
              "      <td>529</td>\n",
              "      <td>...</td>\n",
              "      <td>1121</td>\n",
              "      <td>333</td>\n",
              "      <td>157</td>\n",
              "      <td>875</td>\n",
              "      <td>815</td>\n",
              "      <td>536</td>\n",
              "      <td>1708</td>\n",
              "      <td>1660</td>\n",
              "      <td>1358</td>\n",
              "      <td>1065</td>\n",
              "      <td>679</td>\n",
              "      <td>187</td>\n",
              "      <td>736</td>\n",
              "      <td>463</td>\n",
              "      <td>125</td>\n",
              "      <td>866</td>\n",
              "      <td>1627</td>\n",
              "      <td>451</td>\n",
              "      <td>302</td>\n",
              "      <td>923</td>\n",
              "      <td>235</td>\n",
              "      <td>371</td>\n",
              "      <td>999</td>\n",
              "      <td>782</td>\n",
              "      <td>173</td>\n",
              "      <td>818</td>\n",
              "      <td>Female</td>\n",
              "      <td>5-Oct-10</td>\n",
              "      <td>Fort Hood</td>\n",
              "      <td>Regular Army</td>\n",
              "      <td>Combat Service Support</td>\n",
              "      <td>25U</td>\n",
              "      <td>District of Columbia</td>\n",
              "      <td>8</td>\n",
              "      <td>Caribbean Islander</td>\n",
              "      <td>2</td>\n",
              "      <td>22</td>\n",
              "      <td>66</td>\n",
              "      <td>175</td>\n",
              "      <td>Right hand</td>\n",
              "    </tr>\n",
              "  </tbody>\n",
              "</table>\n",
              "<p>4 rows × 108 columns</p>\n",
              "</div>"
            ],
            "text/plain": [
              "   SubjectId  abdominalextensiondepthsitting  ...  Weightlbs  WritingPreference\n",
              "0      10037                             231  ...        142         Right hand\n",
              "1      10038                             194  ...        120         Right hand\n",
              "2      10042                             183  ...        147         Right hand\n",
              "3      10043                             261  ...        175         Right hand\n",
              "\n",
              "[4 rows x 108 columns]"
            ]
          },
          "metadata": {
            "tags": []
          },
          "execution_count": 149
        }
      ]
    },
    {
      "cell_type": "code",
      "metadata": {
        "colab": {
          "base_uri": "https://localhost:8080/",
          "height": 665
        },
        "id": "dHOCkurQYTvV",
        "outputId": "26b416e0-8bb0-441c-a967-31ef53586d08"
      },
      "source": [
        "correlation = df.corr()\n",
        "#fig = plt.subplots(figsize=(100,100))\n",
        "#sns.heatmap(correlation,vmax=1,square=True,annot=True,cmap='Blues')\n",
        "c=correlation['Weightlbs'].sort_values(ascending=False)\n",
        "c=pd.DataFrame(data=c)\n",
        "c.head(20)"
      ],
      "execution_count": null,
      "outputs": [
        {
          "output_type": "execute_result",
          "data": {
            "text/html": [
              "<div>\n",
              "<style scoped>\n",
              "    .dataframe tbody tr th:only-of-type {\n",
              "        vertical-align: middle;\n",
              "    }\n",
              "\n",
              "    .dataframe tbody tr th {\n",
              "        vertical-align: top;\n",
              "    }\n",
              "\n",
              "    .dataframe thead th {\n",
              "        text-align: right;\n",
              "    }\n",
              "</style>\n",
              "<table border=\"1\" class=\"dataframe\">\n",
              "  <thead>\n",
              "    <tr style=\"text-align: right;\">\n",
              "      <th></th>\n",
              "      <th>Weightlbs</th>\n",
              "    </tr>\n",
              "  </thead>\n",
              "  <tbody>\n",
              "    <tr>\n",
              "      <th>Weightlbs</th>\n",
              "      <td>1.000000</td>\n",
              "    </tr>\n",
              "    <tr>\n",
              "      <th>weightkg</th>\n",
              "      <td>0.970784</td>\n",
              "    </tr>\n",
              "    <tr>\n",
              "      <th>buttockcircumference</th>\n",
              "      <td>0.884110</td>\n",
              "    </tr>\n",
              "    <tr>\n",
              "      <th>thighcircumference</th>\n",
              "      <td>0.864628</td>\n",
              "    </tr>\n",
              "    <tr>\n",
              "      <th>bicepscircumferenceflexed</th>\n",
              "      <td>0.833521</td>\n",
              "    </tr>\n",
              "    <tr>\n",
              "      <th>bideltoidbreadth</th>\n",
              "      <td>0.832359</td>\n",
              "    </tr>\n",
              "    <tr>\n",
              "      <th>buttockdepth</th>\n",
              "      <td>0.822897</td>\n",
              "    </tr>\n",
              "    <tr>\n",
              "      <th>verticaltrunkcircumferenceusa</th>\n",
              "      <td>0.819239</td>\n",
              "    </tr>\n",
              "    <tr>\n",
              "      <th>waistcircumference</th>\n",
              "      <td>0.809851</td>\n",
              "    </tr>\n",
              "    <tr>\n",
              "      <th>hipbreadthsitting</th>\n",
              "      <td>0.807199</td>\n",
              "    </tr>\n",
              "    <tr>\n",
              "      <th>shouldercircumference</th>\n",
              "      <td>0.801192</td>\n",
              "    </tr>\n",
              "    <tr>\n",
              "      <th>thighclearance</th>\n",
              "      <td>0.800419</td>\n",
              "    </tr>\n",
              "    <tr>\n",
              "      <th>chestcircumference</th>\n",
              "      <td>0.800005</td>\n",
              "    </tr>\n",
              "    <tr>\n",
              "      <th>hipbreadth</th>\n",
              "      <td>0.799549</td>\n",
              "    </tr>\n",
              "    <tr>\n",
              "      <th>lowerthighcircumference</th>\n",
              "      <td>0.796760</td>\n",
              "    </tr>\n",
              "    <tr>\n",
              "      <th>forearmcircumferenceflexed</th>\n",
              "      <td>0.792772</td>\n",
              "    </tr>\n",
              "    <tr>\n",
              "      <th>waistbreadth</th>\n",
              "      <td>0.784037</td>\n",
              "    </tr>\n",
              "    <tr>\n",
              "      <th>forearmforearmbreadth</th>\n",
              "      <td>0.774505</td>\n",
              "    </tr>\n",
              "    <tr>\n",
              "      <th>calfcircumference</th>\n",
              "      <td>0.770740</td>\n",
              "    </tr>\n",
              "    <tr>\n",
              "      <th>chestdepth</th>\n",
              "      <td>0.767948</td>\n",
              "    </tr>\n",
              "  </tbody>\n",
              "</table>\n",
              "</div>"
            ],
            "text/plain": [
              "                               Weightlbs\n",
              "Weightlbs                       1.000000\n",
              "weightkg                        0.970784\n",
              "buttockcircumference            0.884110\n",
              "thighcircumference              0.864628\n",
              "bicepscircumferenceflexed       0.833521\n",
              "bideltoidbreadth                0.832359\n",
              "buttockdepth                    0.822897\n",
              "verticaltrunkcircumferenceusa   0.819239\n",
              "waistcircumference              0.809851\n",
              "hipbreadthsitting               0.807199\n",
              "shouldercircumference           0.801192\n",
              "thighclearance                  0.800419\n",
              "chestcircumference              0.800005\n",
              "hipbreadth                      0.799549\n",
              "lowerthighcircumference         0.796760\n",
              "forearmcircumferenceflexed      0.792772\n",
              "waistbreadth                    0.784037\n",
              "forearmforearmbreadth           0.774505\n",
              "calfcircumference               0.770740\n",
              "chestdepth                      0.767948"
            ]
          },
          "metadata": {
            "tags": []
          },
          "execution_count": 135
        }
      ]
    },
    {
      "cell_type": "code",
      "metadata": {
        "id": "Z-OiajsochWE"
      },
      "source": [
        "newdf = df[['Heightin','buttockcircumference','thighcircumference','bideltoidbreadth','bicepscircumferenceflexed','buttockdepth','verticaltrunkcircumferenceusa','waistcircumference','thighclearance','hipbreadthsitting','weightkg']].copy()\n"
      ],
      "execution_count": null,
      "outputs": []
    },
    {
      "cell_type": "markdown",
      "metadata": {
        "id": "YPu3T_eKhvrJ"
      },
      "source": [
        "# Here plotting three columns to understand the range of the dataset. From the scatter plotting below I got to know that I have to apply the scalling method to get a better model as the range of the cols are not in the same scale."
      ]
    },
    {
      "cell_type": "code",
      "metadata": {
        "id": "DJXum0INVUgb",
        "colab": {
          "base_uri": "https://localhost:8080/",
          "height": 282
        },
        "outputId": "eb67d5f6-ef34-4244-f981-aebfd7249c38"
      },
      "source": [
        "x = newdf[['Heightin','buttockcircumference','thighcircumference','bideltoidbreadth','bicepscircumferenceflexed','buttockdepth','verticaltrunkcircumferenceusa','waistcircumference','thighclearance','hipbreadthsitting']]\n",
        "y = newdf['weightkg']\n",
        "\n",
        "plt.scatter(x.iloc[:,1],y)\n",
        "plt.scatter(x.iloc[:,2],y)\n",
        "plt.scatter(x.iloc[:,3],y)\n",
        "\n",
        "\n"
      ],
      "execution_count": null,
      "outputs": [
        {
          "output_type": "execute_result",
          "data": {
            "text/plain": [
              "<matplotlib.collections.PathCollection at 0x7f0d37f3f150>"
            ]
          },
          "metadata": {
            "tags": []
          },
          "execution_count": 137
        },
        {
          "output_type": "display_data",
          "data": {
            "image/png": "[encoded data removed]",
            "text/plain": [
              "<Figure size 432x288 with 1 Axes>"
            ]
          },
          "metadata": {
            "tags": [],
            "needs_background": "light"
          }
        }
      ]
    },
    {
      "cell_type": "code",
      "metadata": {
        "colab": {
          "base_uri": "https://localhost:8080/",
          "height": 315
        },
        "id": "uNqjVnDgRH8M",
        "outputId": "e4234f3e-a50d-45d5-904e-314137c6c7d5"
      },
      "source": [
        "x.describe()"
      ],
      "execution_count": null,
      "outputs": [
        {
          "output_type": "execute_result",
          "data": {
            "text/html": [
              "<div>\n",
              "<style scoped>\n",
              "    .dataframe tbody tr th:only-of-type {\n",
              "        vertical-align: middle;\n",
              "    }\n",
              "\n",
              "    .dataframe tbody tr th {\n",
              "        vertical-align: top;\n",
              "    }\n",
              "\n",
              "    .dataframe thead th {\n",
              "        text-align: right;\n",
              "    }\n",
              "</style>\n",
              "<table border=\"1\" class=\"dataframe\">\n",
              "  <thead>\n",
              "    <tr style=\"text-align: right;\">\n",
              "      <th></th>\n",
              "      <th>Heightin</th>\n",
              "      <th>buttockcircumference</th>\n",
              "      <th>thighcircumference</th>\n",
              "      <th>bideltoidbreadth</th>\n",
              "      <th>bicepscircumferenceflexed</th>\n",
              "      <th>buttockdepth</th>\n",
              "      <th>verticaltrunkcircumferenceusa</th>\n",
              "      <th>waistcircumference</th>\n",
              "      <th>thighclearance</th>\n",
              "      <th>hipbreadthsitting</th>\n",
              "    </tr>\n",
              "  </thead>\n",
              "  <tbody>\n",
              "    <tr>\n",
              "      <th>count</th>\n",
              "      <td>1986.000000</td>\n",
              "      <td>1986.000000</td>\n",
              "      <td>1986.000000</td>\n",
              "      <td>1986.000000</td>\n",
              "      <td>1986.000000</td>\n",
              "      <td>1986.000000</td>\n",
              "      <td>1986.000000</td>\n",
              "      <td>1986.000000</td>\n",
              "      <td>1986.00000</td>\n",
              "      <td>1986.000000</td>\n",
              "    </tr>\n",
              "    <tr>\n",
              "      <th>mean</th>\n",
              "      <td>64.601712</td>\n",
              "      <td>1021.247734</td>\n",
              "      <td>616.148540</td>\n",
              "      <td>450.324270</td>\n",
              "      <td>305.578550</td>\n",
              "      <td>232.926989</td>\n",
              "      <td>1559.409366</td>\n",
              "      <td>860.905337</td>\n",
              "      <td>167.86002</td>\n",
              "      <td>398.961732</td>\n",
              "    </tr>\n",
              "    <tr>\n",
              "      <th>std</th>\n",
              "      <td>2.801938</td>\n",
              "      <td>75.894711</td>\n",
              "      <td>55.810299</td>\n",
              "      <td>28.687416</td>\n",
              "      <td>30.757033</td>\n",
              "      <td>24.328445</td>\n",
              "      <td>75.985542</td>\n",
              "      <td>99.931771</td>\n",
              "      <td>14.05848</td>\n",
              "      <td>32.749112</td>\n",
              "    </tr>\n",
              "    <tr>\n",
              "      <th>min</th>\n",
              "      <td>56.000000</td>\n",
              "      <td>798.000000</td>\n",
              "      <td>448.000000</td>\n",
              "      <td>357.000000</td>\n",
              "      <td>216.000000</td>\n",
              "      <td>168.000000</td>\n",
              "      <td>1342.000000</td>\n",
              "      <td>611.000000</td>\n",
              "      <td>121.00000</td>\n",
              "      <td>307.000000</td>\n",
              "    </tr>\n",
              "    <tr>\n",
              "      <th>25%</th>\n",
              "      <td>63.000000</td>\n",
              "      <td>969.000000</td>\n",
              "      <td>579.000000</td>\n",
              "      <td>430.000000</td>\n",
              "      <td>285.000000</td>\n",
              "      <td>216.000000</td>\n",
              "      <td>1508.000000</td>\n",
              "      <td>790.000000</td>\n",
              "      <td>158.00000</td>\n",
              "      <td>377.000000</td>\n",
              "    </tr>\n",
              "    <tr>\n",
              "      <th>50%</th>\n",
              "      <td>64.000000</td>\n",
              "      <td>1018.500000</td>\n",
              "      <td>613.000000</td>\n",
              "      <td>450.000000</td>\n",
              "      <td>304.000000</td>\n",
              "      <td>231.000000</td>\n",
              "      <td>1555.000000</td>\n",
              "      <td>852.000000</td>\n",
              "      <td>167.00000</td>\n",
              "      <td>397.000000</td>\n",
              "    </tr>\n",
              "    <tr>\n",
              "      <th>75%</th>\n",
              "      <td>66.000000</td>\n",
              "      <td>1069.000000</td>\n",
              "      <td>651.000000</td>\n",
              "      <td>469.000000</td>\n",
              "      <td>324.000000</td>\n",
              "      <td>248.000000</td>\n",
              "      <td>1610.000000</td>\n",
              "      <td>925.000000</td>\n",
              "      <td>177.00000</td>\n",
              "      <td>419.000000</td>\n",
              "    </tr>\n",
              "    <tr>\n",
              "      <th>max</th>\n",
              "      <td>80.000000</td>\n",
              "      <td>1341.000000</td>\n",
              "      <td>870.000000</td>\n",
              "      <td>558.000000</td>\n",
              "      <td>435.000000</td>\n",
              "      <td>349.000000</td>\n",
              "      <td>1828.000000</td>\n",
              "      <td>1334.000000</td>\n",
              "      <td>239.00000</td>\n",
              "      <td>541.000000</td>\n",
              "    </tr>\n",
              "  </tbody>\n",
              "</table>\n",
              "</div>"
            ],
            "text/plain": [
              "          Heightin  buttockcircumference  ...  thighclearance  hipbreadthsitting\n",
              "count  1986.000000           1986.000000  ...      1986.00000        1986.000000\n",
              "mean     64.601712           1021.247734  ...       167.86002         398.961732\n",
              "std       2.801938             75.894711  ...        14.05848          32.749112\n",
              "min      56.000000            798.000000  ...       121.00000         307.000000\n",
              "25%      63.000000            969.000000  ...       158.00000         377.000000\n",
              "50%      64.000000           1018.500000  ...       167.00000         397.000000\n",
              "75%      66.000000           1069.000000  ...       177.00000         419.000000\n",
              "max      80.000000           1341.000000  ...       239.00000         541.000000\n",
              "\n",
              "[8 rows x 10 columns]"
            ]
          },
          "metadata": {
            "tags": []
          },
          "execution_count": 138
        }
      ]
    },
    {
      "cell_type": "code",
      "metadata": {
        "colab": {
          "base_uri": "https://localhost:8080/",
          "height": 162
        },
        "id": "X0u9ZkbrNnuj",
        "outputId": "acfcb060-3ce8-4f42-dae7-7b890bb5ff95"
      },
      "source": [
        "x.head(3)"
      ],
      "execution_count": null,
      "outputs": [
        {
          "output_type": "execute_result",
          "data": {
            "text/html": [
              "<div>\n",
              "<style scoped>\n",
              "    .dataframe tbody tr th:only-of-type {\n",
              "        vertical-align: middle;\n",
              "    }\n",
              "\n",
              "    .dataframe tbody tr th {\n",
              "        vertical-align: top;\n",
              "    }\n",
              "\n",
              "    .dataframe thead th {\n",
              "        text-align: right;\n",
              "    }\n",
              "</style>\n",
              "<table border=\"1\" class=\"dataframe\">\n",
              "  <thead>\n",
              "    <tr style=\"text-align: right;\">\n",
              "      <th></th>\n",
              "      <th>Heightin</th>\n",
              "      <th>buttockcircumference</th>\n",
              "      <th>thighcircumference</th>\n",
              "      <th>bideltoidbreadth</th>\n",
              "      <th>bicepscircumferenceflexed</th>\n",
              "      <th>buttockdepth</th>\n",
              "      <th>verticaltrunkcircumferenceusa</th>\n",
              "      <th>waistcircumference</th>\n",
              "      <th>thighclearance</th>\n",
              "      <th>hipbreadthsitting</th>\n",
              "    </tr>\n",
              "  </thead>\n",
              "  <tbody>\n",
              "    <tr>\n",
              "      <th>0</th>\n",
              "      <td>61</td>\n",
              "      <td>1011</td>\n",
              "      <td>622</td>\n",
              "      <td>466</td>\n",
              "      <td>315</td>\n",
              "      <td>223</td>\n",
              "      <td>1488</td>\n",
              "      <td>850</td>\n",
              "      <td>174</td>\n",
              "      <td>388</td>\n",
              "    </tr>\n",
              "    <tr>\n",
              "      <th>1</th>\n",
              "      <td>64</td>\n",
              "      <td>893</td>\n",
              "      <td>524</td>\n",
              "      <td>430</td>\n",
              "      <td>272</td>\n",
              "      <td>186</td>\n",
              "      <td>1470</td>\n",
              "      <td>708</td>\n",
              "      <td>152</td>\n",
              "      <td>335</td>\n",
              "    </tr>\n",
              "    <tr>\n",
              "      <th>2</th>\n",
              "      <td>68</td>\n",
              "      <td>987</td>\n",
              "      <td>577</td>\n",
              "      <td>450</td>\n",
              "      <td>300</td>\n",
              "      <td>204</td>\n",
              "      <td>1542</td>\n",
              "      <td>727</td>\n",
              "      <td>164</td>\n",
              "      <td>399</td>\n",
              "    </tr>\n",
              "  </tbody>\n",
              "</table>\n",
              "</div>"
            ],
            "text/plain": [
              "   Heightin  buttockcircumference  ...  thighclearance  hipbreadthsitting\n",
              "0        61                  1011  ...             174                388\n",
              "1        64                   893  ...             152                335\n",
              "2        68                   987  ...             164                399\n",
              "\n",
              "[3 rows x 10 columns]"
            ]
          },
          "metadata": {
            "tags": []
          },
          "execution_count": 139
        }
      ]
    },
    {
      "cell_type": "markdown",
      "metadata": {
        "id": "yDeDSYqXilb5"
      },
      "source": [
        "Applying LR"
      ]
    },
    {
      "cell_type": "code",
      "metadata": {
        "id": "OpFipV_6WhDk"
      },
      "source": [
        "from sklearn.model_selection import train_test_split\n",
        "x_train, x_test, y_train, y_test = train_test_split(x, y, test_size=0.2)\n",
        "\n",
        "#x_train = x_train.values.reshape(-1,1)\n",
        "#x_test = x_test.values.reshape(-1,1)\n",
        "y_train = y_train.values.reshape(-1,1)\n",
        "y_test = y_test.values.reshape(-1,1)"
      ],
      "execution_count": null,
      "outputs": []
    },
    {
      "cell_type": "code",
      "metadata": {
        "colab": {
          "base_uri": "https://localhost:8080/"
        },
        "id": "iTW1MEVWI13i",
        "outputId": "4f4f5061-153b-45c5-d05d-f6cb36c986d2"
      },
      "source": [
        "from sklearn.linear_model import LinearRegression\n",
        "\n",
        "reg = LinearRegression(normalize=False)\n",
        "reg.fit(x_train, y_train)\n",
        "\n",
        "print(\"slope:\", reg.coef_[0])\n",
        "print(\"intercept\", reg.intercept_)\n",
        "\n",
        "y_pred = reg.predict(x_test)\n",
        "print(\"r2: \", r2_score(y_test,y_pred) )\n"
      ],
      "execution_count": null,
      "outputs": [
        {
          "output_type": "stream",
          "text": [
            "slope: [6.44738143 0.19563511 0.17908292 0.61448945 0.65259635 0.27284116\n",
            " 0.19583248 0.14804532 0.72836928 0.08344698]\n",
            "intercept [-1177.08664315]\n",
            "r2:  0.9633909064600561\n"
          ],
          "name": "stdout"
        }
      ]
    },
    {
      "cell_type": "markdown",
      "metadata": {
        "id": "xoqXlEeCZbT2"
      },
      "source": [
        "### 2b. Here I am using normalization as my feature scalling. As normalization bounds the all the values between 0 to 1 or -1 to 1. "
      ]
    },
    {
      "cell_type": "code",
      "metadata": {
        "colab": {
          "base_uri": "https://localhost:8080/"
        },
        "id": "brzh-jwtYO_-",
        "outputId": "707a744d-4f75-492c-c32f-4c5f1ab6d027"
      },
      "source": [
        "reg = LinearRegression(normalize=True)\n",
        "reg.fit(x_train, y_train)\n",
        "\n",
        "print(\"slope:\", reg.coef_[0])\n",
        "print(\"intercept\", reg.intercept_)\n",
        "\n",
        "y_pred = reg.predict(x_test)\n",
        "print(\"r2: \", r2_score(y_test,y_pred) )\n"
      ],
      "execution_count": null,
      "outputs": [
        {
          "output_type": "stream",
          "text": [
            "slope: [6.44738143 0.19563511 0.17908292 0.61448945 0.65259635 0.27284116\n",
            " 0.19583248 0.14804532 0.72836928 0.08344698]\n",
            "intercept [-1177.08664315]\n",
            "r2:  0.9633909064600561\n"
          ],
          "name": "stdout"
        }
      ]
    },
    {
      "cell_type": "markdown",
      "metadata": {
        "id": "c7gGZ4EWZpSW"
      },
      "source": [
        "### 2e.After using the feature scalling the result improved around 1% to 2% and when I have used standrad scalling in the model the result of the model improved a little than the previous.  "
      ]
    },
    {
      "cell_type": "code",
      "metadata": {
        "id": "ZM3uOQjBWk4j",
        "colab": {
          "base_uri": "https://localhost:8080/",
          "height": 437
        },
        "outputId": "d2c882f1-9ae5-488f-b5f6-35d8b46e2181"
      },
      "source": [
        "x_test"
      ],
      "execution_count": null,
      "outputs": [
        {
          "output_type": "execute_result",
          "data": {
            "text/html": [
              "<div>\n",
              "<style scoped>\n",
              "    .dataframe tbody tr th:only-of-type {\n",
              "        vertical-align: middle;\n",
              "    }\n",
              "\n",
              "    .dataframe tbody tr th {\n",
              "        vertical-align: top;\n",
              "    }\n",
              "\n",
              "    .dataframe thead th {\n",
              "        text-align: right;\n",
              "    }\n",
              "</style>\n",
              "<table border=\"1\" class=\"dataframe\">\n",
              "  <thead>\n",
              "    <tr style=\"text-align: right;\">\n",
              "      <th></th>\n",
              "      <th>Heightin</th>\n",
              "      <th>buttockcircumference</th>\n",
              "      <th>thighcircumference</th>\n",
              "      <th>bideltoidbreadth</th>\n",
              "      <th>bicepscircumferenceflexed</th>\n",
              "      <th>buttockdepth</th>\n",
              "      <th>verticaltrunkcircumferenceusa</th>\n",
              "      <th>waistcircumference</th>\n",
              "      <th>thighclearance</th>\n",
              "      <th>hipbreadthsitting</th>\n",
              "    </tr>\n",
              "  </thead>\n",
              "  <tbody>\n",
              "    <tr>\n",
              "      <th>1664</th>\n",
              "      <td>62</td>\n",
              "      <td>981</td>\n",
              "      <td>588</td>\n",
              "      <td>434</td>\n",
              "      <td>298</td>\n",
              "      <td>220</td>\n",
              "      <td>1520</td>\n",
              "      <td>866</td>\n",
              "      <td>153</td>\n",
              "      <td>395</td>\n",
              "    </tr>\n",
              "    <tr>\n",
              "      <th>1631</th>\n",
              "      <td>68</td>\n",
              "      <td>1065</td>\n",
              "      <td>645</td>\n",
              "      <td>439</td>\n",
              "      <td>307</td>\n",
              "      <td>226</td>\n",
              "      <td>1540</td>\n",
              "      <td>848</td>\n",
              "      <td>159</td>\n",
              "      <td>448</td>\n",
              "    </tr>\n",
              "    <tr>\n",
              "      <th>1058</th>\n",
              "      <td>61</td>\n",
              "      <td>1070</td>\n",
              "      <td>641</td>\n",
              "      <td>465</td>\n",
              "      <td>278</td>\n",
              "      <td>245</td>\n",
              "      <td>1519</td>\n",
              "      <td>920</td>\n",
              "      <td>175</td>\n",
              "      <td>428</td>\n",
              "    </tr>\n",
              "    <tr>\n",
              "      <th>1522</th>\n",
              "      <td>63</td>\n",
              "      <td>1047</td>\n",
              "      <td>623</td>\n",
              "      <td>416</td>\n",
              "      <td>286</td>\n",
              "      <td>243</td>\n",
              "      <td>1527</td>\n",
              "      <td>739</td>\n",
              "      <td>164</td>\n",
              "      <td>396</td>\n",
              "    </tr>\n",
              "    <tr>\n",
              "      <th>1948</th>\n",
              "      <td>60</td>\n",
              "      <td>1049</td>\n",
              "      <td>627</td>\n",
              "      <td>453</td>\n",
              "      <td>321</td>\n",
              "      <td>259</td>\n",
              "      <td>1502</td>\n",
              "      <td>966</td>\n",
              "      <td>166</td>\n",
              "      <td>419</td>\n",
              "    </tr>\n",
              "    <tr>\n",
              "      <th>...</th>\n",
              "      <td>...</td>\n",
              "      <td>...</td>\n",
              "      <td>...</td>\n",
              "      <td>...</td>\n",
              "      <td>...</td>\n",
              "      <td>...</td>\n",
              "      <td>...</td>\n",
              "      <td>...</td>\n",
              "      <td>...</td>\n",
              "      <td>...</td>\n",
              "    </tr>\n",
              "    <tr>\n",
              "      <th>554</th>\n",
              "      <td>65</td>\n",
              "      <td>1040</td>\n",
              "      <td>627</td>\n",
              "      <td>465</td>\n",
              "      <td>304</td>\n",
              "      <td>216</td>\n",
              "      <td>1610</td>\n",
              "      <td>851</td>\n",
              "      <td>179</td>\n",
              "      <td>412</td>\n",
              "    </tr>\n",
              "    <tr>\n",
              "      <th>1475</th>\n",
              "      <td>66</td>\n",
              "      <td>977</td>\n",
              "      <td>592</td>\n",
              "      <td>457</td>\n",
              "      <td>338</td>\n",
              "      <td>230</td>\n",
              "      <td>1598</td>\n",
              "      <td>780</td>\n",
              "      <td>170</td>\n",
              "      <td>356</td>\n",
              "    </tr>\n",
              "    <tr>\n",
              "      <th>160</th>\n",
              "      <td>67</td>\n",
              "      <td>1139</td>\n",
              "      <td>697</td>\n",
              "      <td>474</td>\n",
              "      <td>324</td>\n",
              "      <td>236</td>\n",
              "      <td>1661</td>\n",
              "      <td>939</td>\n",
              "      <td>176</td>\n",
              "      <td>499</td>\n",
              "    </tr>\n",
              "    <tr>\n",
              "      <th>253</th>\n",
              "      <td>63</td>\n",
              "      <td>964</td>\n",
              "      <td>615</td>\n",
              "      <td>447</td>\n",
              "      <td>293</td>\n",
              "      <td>218</td>\n",
              "      <td>1580</td>\n",
              "      <td>850</td>\n",
              "      <td>176</td>\n",
              "      <td>354</td>\n",
              "    </tr>\n",
              "    <tr>\n",
              "      <th>851</th>\n",
              "      <td>63</td>\n",
              "      <td>972</td>\n",
              "      <td>595</td>\n",
              "      <td>431</td>\n",
              "      <td>275</td>\n",
              "      <td>230</td>\n",
              "      <td>1461</td>\n",
              "      <td>836</td>\n",
              "      <td>168</td>\n",
              "      <td>372</td>\n",
              "    </tr>\n",
              "  </tbody>\n",
              "</table>\n",
              "<p>398 rows × 10 columns</p>\n",
              "</div>"
            ],
            "text/plain": [
              "      Heightin  buttockcircumference  ...  thighclearance  hipbreadthsitting\n",
              "1664        62                   981  ...             153                395\n",
              "1631        68                  1065  ...             159                448\n",
              "1058        61                  1070  ...             175                428\n",
              "1522        63                  1047  ...             164                396\n",
              "1948        60                  1049  ...             166                419\n",
              "...        ...                   ...  ...             ...                ...\n",
              "554         65                  1040  ...             179                412\n",
              "1475        66                   977  ...             170                356\n",
              "160         67                  1139  ...             176                499\n",
              "253         63                   964  ...             176                354\n",
              "851         63                   972  ...             168                372\n",
              "\n",
              "[398 rows x 10 columns]"
            ]
          },
          "metadata": {
            "tags": []
          },
          "execution_count": 143
        }
      ]
    },
    {
      "cell_type": "code",
      "metadata": {
        "colab": {
          "base_uri": "https://localhost:8080/",
          "height": 283
        },
        "id": "2jpR4LpqmRWy",
        "outputId": "f1340aa1-7883-4b7d-dc38-35461d9cd275"
      },
      "source": [
        "plt.figure()\n",
        "\n",
        "plt.scatter(x_test.iloc[:,2],y_test, c=x_test.iloc[:,4],s=x_test.iloc[:,5], label='data')\n",
        "plt.scatter(x_test.iloc[:,2],y_pred, color='red', marker='*',label = 'pred')\n",
        "plt.xlabel(x_test.columns[2])\n",
        "plt.ylabel(\"Weights\")\n",
        "plt.legend()\n",
        "plt.colorbar()\n",
        "plt.show()"
      ],
      "execution_count": null,
      "outputs": [
        {
          "output_type": "display_data",
          "data": {
            "image/png": "[encoded data removed]",
            "text/plain": [
              "<Figure size 432x288 with 2 Axes>"
            ]
          },
          "metadata": {
            "tags": [],
            "needs_background": "light"
          }
        }
      ]
    },
    {
      "cell_type": "code",
      "metadata": {
        "id": "78YldhRYsWsd"
      },
      "source": [
        "from sklearn.preprocessing import StandardScaler\n",
        "scaler = StandardScaler()\n",
        "x1 = scaler.fit_transform(x) \n",
        "y1 = scaler.fit_transform(y.values.reshape(-1, 1))\n"
      ],
      "execution_count": null,
      "outputs": []
    },
    {
      "cell_type": "code",
      "metadata": {
        "id": "SRdLoObJuPmV"
      },
      "source": [
        "x_train, x_test, y_train, y_test = train_test_split(x1, y1, test_size=0.2)\n"
      ],
      "execution_count": null,
      "outputs": []
    },
    {
      "cell_type": "code",
      "metadata": {
        "colab": {
          "base_uri": "https://localhost:8080/"
        },
        "id": "RfH2l_MCu45d",
        "outputId": "009a82db-66dd-4ba6-98ea-195a091ebbdf"
      },
      "source": [
        "reg = LinearRegression()\n",
        "reg.fit(x_train, y_train)\n",
        "\n",
        "print(\"slope:\", reg.coef_[0])\n",
        "print(\"intercept\", reg.intercept_)\n",
        "\n",
        "y_pred = reg.predict(x_test)\n",
        "print(\"r2: \", r2_score(y_test,y_pred) )\n"
      ],
      "execution_count": null,
      "outputs": [
        {
          "output_type": "stream",
          "text": [
            "slope: [0.16287602 0.12916039 0.08397764 0.15912    0.18241272 0.05423904\n",
            " 0.14313645 0.13429917 0.10721328 0.0282138 ]\n",
            "intercept [0.00060523]\n",
            "r2:  0.9637358730074621\n"
          ],
          "name": "stdout"
        }
      ]
    },
    {
      "cell_type": "code",
      "metadata": {
        "id": "LGKdGJQ9We3D",
        "colab": {
          "base_uri": "https://localhost:8080/",
          "height": 283
        },
        "outputId": "33588ec0-9ee3-4136-8301-fb0df41b1b2d"
      },
      "source": [
        "plt.figure()\n",
        "\n",
        "plt.scatter(x_test[:,2],y_test, c=x_test[:,4], label='data')\n",
        "plt.scatter(x_test[:,2],y_pred, color='red', marker='*',label = 'pred')\n",
        "plt.xlabel(\"Features\")\n",
        "plt.ylabel(\"Weights\")\n",
        "plt.legend()\n",
        "plt.colorbar()\n",
        "plt.show()"
      ],
      "execution_count": null,
      "outputs": [
        {
          "output_type": "display_data",
          "data": {
            "image/png": "[encoded data removed]",
            "text/plain": [
              "<Figure size 432x288 with 2 Axes>"
            ]
          },
          "metadata": {
            "tags": [],
            "needs_background": "light"
          }
        }
      ]
    },
    {
      "cell_type": "markdown",
      "metadata": {
        "id": "y1AUotKpxhwk"
      },
      "source": [
        "# After using scaler transform of the dataset the model improved all the way. This scatter plot is also with scalling.\n",
        "\n",
        "```\n",
        "# This is formatted as code\n",
        "```\n",
        "\n"
      ]
    },
    {
      "cell_type": "code",
      "metadata": {
        "id": "pepOUZfSyrYx"
      },
      "source": [],
      "execution_count": null,
      "outputs": []
    }
  ]
}